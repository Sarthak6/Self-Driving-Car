{
 "cells": [
  {
   "cell_type": "code",
   "execution_count": 1,
   "metadata": {},
   "outputs": [],
   "source": [
    "import sys\n",
    "sys.path.append('/Users/Sarthak/desktop/fall19/sdcmlab/Car Interface Weeks 2-3/')\n",
    "\n",
    "import controller\n",
    "import numpy as np\n",
    "import matplotlib.pyplot as plt\n",
    "from sklearn.linear_model import LinearRegression"
   ]
  },
  {
   "cell_type": "code",
   "execution_count": 2,
   "metadata": {},
   "outputs": [
    {
     "name": "stdout",
     "output_type": "stream",
     "text": [
      "brake 16.13%\n",
      "brake 86.46%\n",
      "accelerate 95.12%\n",
      "accelerate 86.10%\n",
      "accelerate 95.16%\n",
      "accelerate 60.02%\n",
      "brake 28.08%\n",
      "brake 90.20%\n",
      "accelerate 64.60%\n",
      "accelerate 19.43%\n"
     ]
    }
   ],
   "source": [
    "np.random.seed(149)\n",
    "\n",
    "ci = controller.Car_Interface()\n",
    "\n",
    "ci.set_gear(ci.FORWARD)\n",
    "\n",
    "def apply_alternating_controls(ci, num, time_per):\n",
    "\n",
    "    commands = []\n",
    "\n",
    "    '''\n",
    "    commands should be a list of tuples (cmd_type, amt) where\n",
    "    cmd_type is either 'accelerate' or 'brake' and amt is a\n",
    "    random number between 0 and 1 that denotes how much the\n",
    "    corresponding pedal was depressed.\n",
    "    \n",
    "    In total there should be num commands and each should\n",
    "    be executed for time_per seconds.  The car interface log\n",
    "    will be used later for accessing the data, so make sure\n",
    "    to actually execute the commands on the vehicle.\n",
    "    (see controller.py)\n",
    "    '''\n",
    "    \n",
    "    for i in np.arange(num):\n",
    "        pedal_decider = np.random.randint(2)\n",
    "        if pedal_decider == 0:\n",
    "            pedal = ci.ACCELERATOR\n",
    "            cmd_type = \"accelerate\"\n",
    "        else:\n",
    "            pedal = ci.BRAKE\n",
    "            cmd_type = \"brake\"\n",
    "        amt = np.random.random_sample()\n",
    "        commands.append((cmd_type, amt))\n",
    "        ci.apply_control_for_time(pedal, amt, time_per)\n",
    "        \n",
    "        \n",
    "\n",
    "    return commands\n",
    "\n",
    "\n",
    "N = 20\n",
    "TIME_PER = 50\n",
    "commands = apply_alternating_controls(ci, num = N, time_per = TIME_PER)\n",
    "\n",
    "for i in range(10):\n",
    "    print(commands[i][0], f\"{commands[i][1] * 100:.2f}%\")"
   ]
  },
  {
   "cell_type": "code",
   "execution_count": 30,
   "metadata": {},
   "outputs": [
    {
     "data": {
      "image/png": "[encoded data removed]",
      "text/plain": [
       "<Figure size 432x288 with 1 Axes>"
      ]
     },
     "metadata": {},
     "output_type": "display_data"
    },
    {
     "name": "stdout",
     "output_type": "stream",
     "text": [
      "Actual Coefficients:\n",
      "Acceleration: 0\n",
      "Velocity: 0.0\n",
      "Accelerator Weight: 0.1\n",
      "Brake Weight: -0.25\n",
      "___________________________________________\n"
     ]
    }
   ],
   "source": [
    "vel_log = ci.log[\"velocity\"]\n",
    "acc_log = ci.log[\"acceleration\"]\n",
    "time_log = ci.log[\"time\"]\n",
    "\n",
    "NUM_READINGS = len(time_log)\n",
    "NUM_READINGS_PER = int(NUM_READINGS / N)\n",
    "\n",
    "filt_times = []\n",
    "filt_inps = []\n",
    "filt_outs = []\n",
    "\n",
    "all_times = []\n",
    "all_inps = []\n",
    "all_outs = []\n",
    "\n",
    "for i in range(NUM_READINGS):\n",
    "    cmd = commands[int(i / NUM_READINGS_PER)]\n",
    "    vel = vel_log[i]\n",
    "    acc = acc_log[i]\n",
    "    t = time_log[i]\n",
    "\n",
    "    if (cmd[0] == 'accelerate'):\n",
    "        '''\n",
    "        inp = ? should be a list of length 3 corresponding\n",
    "        to the three input variable in the linear equation\n",
    "        for determining acceleration\n",
    "        '''\n",
    "        inp = [cmd[1], 0, vel]\n",
    "    elif(cmd[0] == 'brake'):\n",
    "        '''\n",
    "        inp = ? remember to order input variables exactly\n",
    "        as done in the previous statement\n",
    "        '''\n",
    "        inp = [0, cmd[1], vel]\n",
    "\n",
    "    all_inps.append(inp)\n",
    "    all_outs.append(acc)\n",
    "    all_times.append(t)\n",
    "    \n",
    "    if (abs(acc) > 0.005):\n",
    "        filt_inps.append(inp)\n",
    "        filt_outs.append(acc)\n",
    "        filt_times.append(t)\n",
    "        \n",
    "\n",
    "    '''\n",
    "    At first you can leave this code section blank.\n",
    "    Once you run Linear Regression on the basic inputs\n",
    "    and outputs you will notice the regression struggles to\n",
    "    accurately model data.  Here you will populate the filtered\n",
    "    lists (filt_inps, filt_outs, filt_times) similar to how\n",
    "    the all lists are populate above, but censoring out certain\n",
    "    (input, output) data points that are undesirable.\n",
    "    '''\n",
    "\n",
    "\n",
    "    \n",
    "    \n",
    "    \n",
    "\n",
    "\n",
    "\n",
    "plt.title(\"Collected Data\")\n",
    "plt.xlabel(\"Time\")\n",
    "plt.ylabel(\"Acceleration\")\n",
    "plt.scatter(all_times, all_outs, color = 'b')\n",
    "plt.show()\n",
    "\n",
    "print(f\"Actual Coefficients:\")\n",
    "'''\n",
    "Fill in the blanks in the next 4 lines with\n",
    "reasonable names for the 4 coefficients and\n",
    "in the curly braces put the corresponding\n",
    "variable name to display it.  The variables\n",
    "should attributes of the car interface object\n",
    "that correspond to those in the linear\n",
    "equation presented in class.\n",
    "'''\n",
    "print(f\"Acceleration: {ci.accel}\")\n",
    "print(f\"Velocity: {ci.velocity}\")\n",
    "print(f\"Accelerator Weight: {ci.accelerator_weight}\")\n",
    "print(f\"Brake Weight: {ci.brake_weight}\")\n",
    "print(\"___________________________________________\")"
   ]
  },
  {
   "cell_type": "code",
   "execution_count": 31,
   "metadata": {},
   "outputs": [
    {
     "name": "stdout",
     "output_type": "stream",
     "text": [
      "Model Fit 0.65708928163443\n",
      "Model Predictions:\n",
      "Acceleration: 0\n",
      "Velocity: 0.0\n",
      "Accelerator Weight: 0.1\n",
      "Brake Weight: -0.25\n",
      "___________________________________________\n"
     ]
    },
    {
     "data": {
      "image/png": "[encoded data removed]",
      "text/plain": [
       "<Figure size 432x288 with 1 Axes>"
      ]
     },
     "metadata": {},
     "output_type": "display_data"
    }
   ],
   "source": [
    "model = LinearRegression()\n",
    "\n",
    "\n",
    "'''\n",
    "First fit the model with the generated data.\n",
    "Then assign fit_score to sklearn LinearRegression\n",
    "score function.  Finally retrieve the learned coefficients.\n",
    "There should be 4, 3 linear dependencies and one constant.\n",
    "(See the coef_ and intercept_ attributes in the LinearRegression\n",
    "documentation)\n",
    "'''\n",
    "\n",
    "model.fit(all_inps, all_outs)\n",
    "fit_score = model.score(all_inps, all_outs)\n",
    "coefficients = model.coef_\n",
    "intercept = model.intercept_ \n",
    "\n",
    "print(f\"Model Fit {fit_score}\")\n",
    "print(f\"Model Predictions:\")\n",
    "'''\n",
    "Fill in the blanks in the next 4 lines with\n",
    "reasonable names for the 4 coefficients and\n",
    "in the curly braces put the corresponding\n",
    "variable name to display it\n",
    "'''\n",
    "print(f\"Acceleration: {ci.accel}\")\n",
    "print(f\"Velocity: {ci.velocity}\")\n",
    "print(f\"Accelerator Weight: {ci.accelerator_weight}\")\n",
    "print(f\"Brake Weight: {ci.brake_weight}\")\n",
    "print(\"___________________________________________\")\n",
    "\n",
    "plt.clf()\n",
    "plt.title(\"Model Predictions on all Data\")\n",
    "plt.xlabel(\"Time\")\n",
    "plt.ylabel(\"Acceleration\")\n",
    "plt.scatter(all_times, all_outs, color = 'b')\n",
    "plt.scatter(all_times, model.predict(all_inps), color = 'r')\n",
    "plt.show()"
   ]
  },
  {
   "cell_type": "code",
   "execution_count": 37,
   "metadata": {},
   "outputs": [
    {
     "name": "stdout",
     "output_type": "stream",
     "text": [
      "Model Fit 0.9994423740901609\n",
      " c1: 0.10002752271596553\n",
      "c2: -0.2497535345764811\n",
      "c3: -0.10984722050448671\n",
      "c4: 0.009964085197947484\n",
      "___________________________________________\n"
     ]
    },
    {
     "data": {
      "image/png": "[encoded data removed]",
      "text/plain": [
       "<Figure size 432x288 with 1 Axes>"
      ]
     },
     "metadata": {},
     "output_type": "display_data"
    },
    {
     "data": {
      "image/png": "[encoded data removed]",
      "text/plain": [
       "<Figure size 432x288 with 1 Axes>"
      ]
     },
     "metadata": {},
     "output_type": "display_data"
    }
   ],
   "source": [
    "'''\n",
    "First fit the model with the filtered generated data.\n",
    "Then assign fit_score to sklearn LinearRegression\n",
    "score function.  Finally retrieve the learned coefficients.\n",
    "There should be 4, 3 linear dependencies and one constant.\n",
    "Code should be similar to the previous section but now using\n",
    "the filtered data.\n",
    "'''\n",
    "\n",
    "print(f\"Model Fit {fit_score}\")\n",
    "'''\n",
    "Fill in the blanks as in the previous section\n",
    "'''\n",
    "model.fit(filt_inps, filt_outs)\n",
    "fit_score = model.score(filt_inps, filt_outs)\n",
    "coefficients = model.coef_\n",
    "intercept = model.intercept_ \n",
    "print(f\" c1: {coefficients[0]}\")\n",
    "print(f\"c2: {coefficients[1]}\")\n",
    "print(f\"c3: {coefficients[2]}\")\n",
    "print(f\"c4: {intercept}\")\n",
    "\n",
    "\n",
    "print(\"___________________________________________\")\n",
    "\n",
    "plt.clf()\n",
    "plt.title(\"Filtered Data\")\n",
    "plt.scatter(filt_times, filt_outs, color = 'b')\n",
    "plt.xlabel(\"Time\")\n",
    "plt.ylabel(\"Acceleration\")\n",
    "plt.show()\n",
    "\n",
    "plt.clf()\n",
    "plt.title(\"Model Predictions on Filtered Data\")\n",
    "plt.xlabel(\"Time\")\n",
    "plt.ylabel(\"Acceleration\")\n",
    "plt.scatter(filt_times, filt_outs, color = 'b')\n",
    "plt.scatter(filt_times, model.predict(filt_inps), color = 'r')\n",
    "plt.show()\n"
   ]
  },
  {
   "cell_type": "code",
   "execution_count": null,
   "metadata": {},
   "outputs": [],
   "source": []
  },
  {
   "cell_type": "code",
   "execution_count": null,
   "metadata": {},
   "outputs": [],
   "source": []
  },
  {
   "cell_type": "code",
   "execution_count": null,
   "metadata": {},
   "outputs": [],
   "source": []
  }
 ],
 "metadata": {
  "kernelspec": {
   "display_name": "Python 3",
   "language": "python",
   "name": "python3"
  },
  "language_info": {
   "codemirror_mode": {
    "name": "ipython",
    "version": 3
   },
   "file_extension": ".py",
   "mimetype": "text/x-python",
   "name": "python",
   "nbconvert_exporter": "python",
   "pygments_lexer": "ipython3",
   "version": "3.6.5"
  }
 },
 "nbformat": 4,
 "nbformat_minor": 2
}
